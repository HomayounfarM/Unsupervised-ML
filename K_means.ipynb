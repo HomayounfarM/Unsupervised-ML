{
  "nbformat": 4,
  "nbformat_minor": 0,
  "metadata": {
    "colab": {
      "private_outputs": true,
      "provenance": [],
      "authorship_tag": "ABX9TyMkwyzFfgZre0rBq4bs+h9j",
      "include_colab_link": true
    },
    "kernelspec": {
      "name": "python3",
      "display_name": "Python 3"
    },
    "language_info": {
      "name": "python"
    }
  },
  "cells": [
    {
      "cell_type": "markdown",
      "metadata": {
        "id": "view-in-github",
        "colab_type": "text"
      },
      "source": [
        "<a href=\"https://colab.research.google.com/github/HomayounfarM/Unsupervised-ML/blob/main/K_means.ipynb\" target=\"_parent\"><img src=\"https://colab.research.google.com/assets/colab-badge.svg\" alt=\"Open In Colab\"/></a>"
      ]
    },
    {
      "cell_type": "code",
      "execution_count": null,
      "metadata": {
        "id": "ouBM22Zxdp4y"
      },
      "outputs": [],
      "source": [
        "import numpy as np\n",
        "import matplotlib.pyplot as plt\n",
        "from sklearn.cluster import KMeans\n",
        "from sklearn.datasets import make_blobs\n",
        "\n",
        "# Generate some random data points\n",
        "n_samples = 300\n",
        "n_features = 2\n",
        "n_clusters = 3\n",
        "\n",
        "# Generate random data points with make_blobs\n",
        "data, labels = make_blobs(n_samples=n_samples, n_features=n_features, centers=n_clusters, random_state=42)\n",
        "\n",
        "# Create a KMeans instance with the desired number of clusters\n",
        "kmeans = KMeans(n_clusters=n_clusters)\n",
        "\n",
        "# Fit the KMeans model to the data\n",
        "print(data.shape)\n",
        "kmeans.fit(data)\n",
        "\n",
        "# Get cluster assignments for each data point\n",
        "cluster_assignments = kmeans.labels_\n",
        "print(cluster_assignments)\n",
        "# Get the coordinates of the cluster centers\n",
        "cluster_centers = kmeans.cluster_centers_\n",
        "print(cluster_centers)\n",
        "# Plot the data points and cluster centers\n",
        "plt.scatter(data[:, 0], data[:, 1], c=cluster_assignments, cmap='viridis')\n",
        "plt.scatter(cluster_centers[:, 0], cluster_centers[:, 1], c='red', marker='x', s=200)\n",
        "plt.title('K-Means Clustering')\n",
        "plt.xlabel('Feature 1')\n",
        "plt.ylabel('Feature 2')\n",
        "plt.show()\n"
      ]
    }
  ]
}